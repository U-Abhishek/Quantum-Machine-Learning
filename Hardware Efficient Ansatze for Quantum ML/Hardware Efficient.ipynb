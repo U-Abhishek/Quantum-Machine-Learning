{
 "cells": [
  {
   "cell_type": "code",
   "execution_count": 1,
   "id": "72796038",
   "metadata": {},
   "outputs": [],
   "source": [
    "# General tools\n",
    "import numpy as np\n",
    "import matplotlib.pyplot as plt\n",
    "\n",
    "# Qiskit Circuit Functions\n",
    "from qiskit import  execute,QuantumCircuit, QuantumRegister, ClassicalRegister, Aer, transpile\n",
    "import qiskit.quantum_info as qi\n",
    "\n",
    "# Tomography functions\n",
    "from qiskit.ignis.verification.tomography import process_tomography_circuits, ProcessTomographyFitter\n",
    "from qiskit.ignis.mitigation.measurement import complete_meas_cal, CompleteMeasFitter\n",
    "\n",
    "import warnings \n",
    "warnings.filterwarnings('ignore')"
   ]
  },
  {
   "attachments": {
    "lab5ex1.png": {
     "image/png": "[encoded data removed]"
    }
   },
   "cell_type": "markdown",
   "id": "33db5d54",
   "metadata": {},
   "source": [
    "### 1\n",
    "- Make this Quantum Circuit\n",
    "\n",
    "<div>\n",
    "<img src=\"attachment:lab5ex1.png\"/>\n",
    "</div>"
   ]
  },
  {
   "cell_type": "code",
   "execution_count": 2,
   "id": "4b827872",
   "metadata": {},
   "outputs": [],
   "source": [
    "target = QuantumCircuit(2)\n",
    "\n",
    "\n",
    "target.h(0)\n",
    "target.h(1)\n",
    "target.rx(np.pi/2,0)\n",
    "target.rx(np.pi/2,1)\n",
    "target.cx(0,1)\n",
    "target.p(np.pi,1)\n",
    "target.cx(0,1)\n",
    "#target = # YOUR CODE HERE\n",
    "target_unitary = qi.Operator(target)"
   ]
  },
  {
   "cell_type": "markdown",
   "id": "04f07ec5",
   "metadata": {},
   "source": [
    "# Quantum Process Tomography with Only Shot Noise\n",
    "Here we will now use the `qasm_simulator` to simulate a Quantum Process Tomography Circuit\n",
    "\n",
    "###  2a\n",
    "- Using the Process Tomography Circuits function built into qiskit, create the set of circuits to do quantum process tomography and simulation with a qasm simulator (with shot noise only)."
   ]
  },
  {
   "cell_type": "code",
   "execution_count": 3,
   "id": "3066e0bf",
   "metadata": {},
   "outputs": [],
   "source": [
    "\n",
    "simulator = Aer.get_backend('qasm_simulator')\n",
    "qpt_circs = process_tomography_circuits(target, measured_qubits=[0,1])\n",
    "qpt_job = execute(qpt_circs,simulator,seed_simulator=3145,seed_transpiler=3145,shots=8192)\n",
    "qpt_result = qpt_job.result()"
   ]
  },
  {
   "cell_type": "code",
   "execution_count": 4,
   "id": "cd0e136c",
   "metadata": {},
   "outputs": [
    {
     "data": {
      "text/plain": [
       "144"
      ]
     },
     "execution_count": 4,
     "metadata": {},
     "output_type": "execute_result"
    }
   ],
   "source": [
    "len(qpt_circs)"
   ]
  },
  {
   "cell_type": "markdown",
   "id": "ed4e6f90",
   "metadata": {},
   "source": [
    "### Question 2b\n",
    "- Using a least squares fitting method for the Process Tomography Fitter, determin the fidelity of your target unitary\n"
   ]
  },
  {
   "cell_type": "code",
   "execution_count": 5,
   "id": "e0277ee4",
   "metadata": {},
   "outputs": [
    {
     "data": {
      "text/plain": [
       "0.9926697818280223"
      ]
     },
     "execution_count": 5,
     "metadata": {},
     "output_type": "execute_result"
    }
   ],
   "source": [
    "\n",
    "process_results = ProcessTomographyFitter(qpt_result, qpt_circs)  \n",
    "choi_matrix = process_results.fit(method = 'lstsq') \n",
    "fidelity = qi.average_gate_fidelity(choi_matrix,target_unitary )\n",
    "fidelity"
   ]
  },
  {
   "cell_type": "markdown",
   "id": "3258caa3",
   "metadata": {},
   "source": [
    "# Quantum Process Tomography with a T1/T2 Noise Model\n",
    "For the sake of consistency, let's set some values to characterize the duration of our gates and T1/T2 times:"
   ]
  },
  {
   "cell_type": "code",
   "execution_count": 6,
   "id": "6ca6d31d",
   "metadata": {},
   "outputs": [],
   "source": [
    "# T1 and T2 values for qubits 0-3\n",
    "T1s = [15000, 19000, 22000, 14000]\n",
    "T2s = [30000, 25000, 18000, 28000]\n",
    "\n",
    "# Instruction times (in nanoseconds)\n",
    "time_u1 = 0   # virtual gate\n",
    "time_u2 = 50  # (single X90 pulse)\n",
    "time_u3 = 100 # (two X90 pulses)\n",
    "time_cx = 300\n",
    "time_reset = 1000  # 1 microsecond\n",
    "time_measure = 1000 # 1 microsecond"
   ]
  },
  {
   "cell_type": "code",
   "execution_count": 7,
   "id": "884b36d9",
   "metadata": {},
   "outputs": [],
   "source": [
    "from qiskit.providers.aer.noise import thermal_relaxation_error\n",
    "from qiskit.providers.aer.noise import NoiseModel"
   ]
  },
  {
   "cell_type": "markdown",
   "id": "8e0de5c8",
   "metadata": {},
   "source": [
    "### 3)\n",
    "- Using the Thermal Relaxation Error model built into qiskit, define `u1`,`u2`,`u3`, `cx`, `measurement` and `reset` errors usi"
   ]
  },
  {
   "cell_type": "code",
   "execution_count": 8,
   "id": "f25e8b4f",
   "metadata": {},
   "outputs": [],
   "source": [
    "# QuantumError objects\n",
    "errors_reset = [thermal_relaxation_error(t1, t2, time_reset)\n",
    "                for t1, t2 in zip(T1s, T2s)]\n",
    "errors_measure = [thermal_relaxation_error(t1, t2, time_measure)\n",
    "                  for t1, t2 in zip(T1s, T2s)]\n",
    "errors_u1  = [thermal_relaxation_error(t1, t2, time_u1)\n",
    "              for t1, t2 in zip(T1s, T2s)]\n",
    "errors_u2  = [thermal_relaxation_error(t1, t2, time_u2)\n",
    "              for t1, t2 in zip(T1s, T2s)]\n",
    "errors_u3  = [thermal_relaxation_error(t1, t2, time_u3)\n",
    "              for t1, t2 in zip(T1s, T2s)]\n",
    "errors_cx = [[thermal_relaxation_error(t1a, t2a, time_cx).expand(\n",
    "             thermal_relaxation_error(t1b, t2b, time_cx))\n",
    "              for t1a, t2a in zip(T1s, T2s)]\n",
    "               for t1b, t2b in zip(T1s, T2s)]\n",
    "\n",
    "# Add errors to noise model\n",
    "noise_thermal = NoiseModel()\n",
    "\n",
    "\n",
    "for j in range(4):\n",
    "    noise_thermal.add_quantum_error(errors_reset[j], 'reset', [j])\n",
    "    noise_thermal.add_quantum_error(errors_measure[j], 'measure', [j])\n",
    "    noise_thermal.add_quantum_error(errors_u1[j], 'u1', [j])\n",
    "    noise_thermal.add_quantum_error(errors_u2[j], 'u2', [j])\n",
    "    noise_thermal.add_quantum_error(errors_u3[j], 'u3', [j])\n",
    "\n",
    "    for k in range(4):\n",
    "        noise_thermal.add_quantum_error(errors_cx[j][k], 'cx', [j,k])\n"
   ]
  },
  {
   "cell_type": "markdown",
   "id": "060a4017",
   "metadata": {},
   "source": [
    "### 4)\n",
    "- Get a QPT fidelity using the noise model,but without using any error mitigation techniques.  Again, use `seed_simulator=3145`, `seed_transpiler=3145` and `shots=8192` for the `execute` function\n",
    "\n",
    "\n",
    "\n"
   ]
  },
  {
   "cell_type": "code",
   "execution_count": 9,
   "id": "2353ca9d",
   "metadata": {},
   "outputs": [],
   "source": [
    "np.random.seed(0)\n",
    "\n",
    "# YOUR CODE HERE\n",
    "\n",
    "    \n",
    "simulator = Aer.get_backend('qasm_simulator')\n",
    "\n",
    "qpt_job = execute(qpt_circs,simulator, seed_simulator=3145, seed_transpiler=3145, shots=8192,noise_model=noise_thermal)\n",
    "qpt_result = qpt_job.result()\n",
    "\n",
    "\n",
    "\n",
    "mit_noisy_qpt_tono = ProcessTomographyFitter(qpt_result,qpt_circs)\n",
    "mit_noisy_qpt_lstsq = mit_noisy_qpt_tono.fit(method='lstsq')\n",
    "fidelity = qi.average_gate_fidelity(mit_noisy_qpt_lstsq , target)\n"
   ]
  },
  {
   "cell_type": "code",
   "execution_count": 10,
   "id": "e8fc5523",
   "metadata": {},
   "outputs": [
    {
     "name": "stdout",
     "output_type": "stream",
     "text": [
      "0.959927748985467\n"
     ]
    }
   ],
   "source": [
    "np.random.seed(0)\n",
    "\n",
    "\n",
    "simulator = Aer.get_backend('qasm_simulator')\n",
    "meas_cal_circs, state_labels= complete_meas_cal(qubit_list=[0,1])\n",
    "meas_cal_job = execute(meas_cal_circs,simulator, seed_simulator=3145, seed_transpiler=3145, shots=8192,noise_model=noise_thermal)\n",
    "meas_cal_result = meas_cal_job.result()\n",
    "\n",
    "meas_fitter = CompleteMeasFitter(meas_cal_result,state_labels)\n",
    "meas_filter = meas_fitter.filter\n",
    "\n",
    "mit_noisy_qpt_result = meas_filter.apply(qpt_result)\n",
    "mit_noisy_qpt_tono = ProcessTomographyFitter(mit_noisy_qpt_result,qpt_circs)\n",
    "mit_noisy_qpt_lstsq = mit_noisy_qpt_tono.fit(method='lstsq')\n",
    "fidelity = qi.average_gate_fidelity(mit_noisy_qpt_lstsq , target_unitary)\n",
    "print(fidelity)"
   ]
  }
 ],
 "metadata": {
  "kernelspec": {
   "display_name": "Python 3",
   "language": "python",
   "name": "python3"
  },
  "language_info": {
   "codemirror_mode": {
    "name": "ipython",
    "version": 3
   },
   "file_extension": ".py",
   "mimetype": "text/x-python",
   "name": "python",
   "nbconvert_exporter": "python",
   "pygments_lexer": "ipython3",
   "version": "3.8.10"
  }
 },
 "nbformat": 4,
 "nbformat_minor": 5
}
